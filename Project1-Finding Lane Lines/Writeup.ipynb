{
 "cells": [
  {
   "cell_type": "markdown",
   "metadata": {},
   "source": [
    "# Finding Lane Lines"
   ]
  },
  {
   "cell_type": "markdown",
   "metadata": {},
   "source": [
    "In this project we are going to implement the techniques using OpenCV library for identifying the lane lines on road , so that it is easy for car to follow the lanes and ride in between to avoid accidents."
   ]
  },
  {
   "cell_type": "markdown",
   "metadata": {},
   "source": [
    "## Steps to Achieve the Objective "
   ]
  },
  {
   "cell_type": "markdown",
   "metadata": {},
   "source": [
    "Following steps are performed to identify the lanes on images and later on application on video clips provdided for testing-\n",
    "1. Grey Scale Conversion of image\n",
    "2. Gussian Noise Removal\n",
    "3. Edge Detection (Cannys Method)\n",
    "4. Region of Interest\n",
    "5. Line Detection (Houghs Transform)\n",
    "6. Lane Formation "
   ]
  },
  {
   "cell_type": "markdown",
   "metadata": {},
   "source": [
    "### 1. Grey Scale Conversion\n",
    "\n",
    "##### Reason for converting to grey scale -\n",
    "1. Less computing power as now image is represented in less bytes as compared to color\n",
    "2. Easy to track the changes in E.g. brightness, contrast, edges, shape, contours, texture, perspective, shadows etc. as we will be talking about only one color's shade\n",
    "\n",
    "##### How do we make conversion - \n",
    "So, here comes the Opencv library with inbuilt functions to simplify the process. Function for same                             \"cv2.cvtColor(img, cv2.COLOR_RGB2GRAY)\"\n"
   ]
  },
  {
   "cell_type": "markdown",
   "metadata": {},
   "source": [
    "### 2. Gaussian Noise Removal\n",
    "\n",
    "It is similar to convolution layer application in neural nets for image processing.\n",
    "\n",
    "#### Why we need this -\n",
    "1. To remove the noise in image which follows gaussian probability distribution (normal distribution), bell curve distribution\n",
    "2. It removes the high frequency components of the image hence blurring the image a bit and removal of unwanted components \n",
    "3. It smoothens the image which will be helpful in edge detection (we will know it in next section)\n",
    "\n",
    "#### Cons of this method -\n",
    "1. It leads to reduction in details which might be important while detecting edges\n",
    "\n",
    "#### How to do it -\n",
    "Function is \"cv2.GaussianBlur(img, (kernel_size, kernel_size), 0)\".\n",
    "1. kernel size : Area that we want to take in consideration while detecting noisy components , larger its number less sensitive the filter will be"
   ]
  },
  {
   "cell_type": "markdown",
   "metadata": {},
   "source": [
    "### 3. Edge Detection - Canny's Algorithm\n",
    "\n",
    "#### Principle Behind the Algorithm -\n",
    "It is based on calculating the gradient while traversing through the image , so when there is an edge/line there will be significant change in gradient of the pixel intensity, which helps in identifying the edges. It helps in identifying edges in vertical , horizontal and diagonal direction as well\n",
    "\n",
    "#### How does it works - \n",
    "1. It calculates first order derivative(Gradient/slope) in horizonatal and vertical direction to identify the edge and it's orientation\n",
    "2. It compares the gradient at one location with its neighbors and keep the maximum and masks others to identify the strogest edge . So this will keep only pixels with edges\n",
    "3. Now to finalize on edges , it uses some minimum and maximum value cut off to conside it as an edge which will be user input. It is known as hyteresis thresholding\n",
    "\n",
    "#### How to implement it -\n",
    "Function is \"cv2.Canny(img, low_threshold, high_threshold)\"\n",
    "1. Low threshold : intensity gradient below which edges will not be considered\n",
    "2. High threshold: intensity gradient above which edges are sure\n"
   ]
  },
  {
   "cell_type": "markdown",
   "metadata": {},
   "source": [
    "### 4. Region of Interest -\n",
    "\n",
    "#### Why do we need it -\n",
    "It is a method to mask the unwanted part of image so as to refine the further process of line detection as it will lead to reduction in noisy edges in surrounding of the road.\n",
    "\n",
    "#### Mistake not to make -\n",
    "I have thought of applying it at the start and then proceed for further steps , so as to reduce the computation.But, then i have realised that when we mask the surrounding area in some polygonal form it becomes strong edge hence line will be detected at those polygons edges . So I transferred it from start to after edge detection\n",
    "\n",
    "#### How to apply -\n",
    "We need to select the coordinated in image which needs to be masked and then apply the color filter over it to mask it \n"
   ]
  },
  {
   "cell_type": "markdown",
   "metadata": {},
   "source": [
    "### 5. Line Detection - Hough's Transform\n",
    "\n",
    "#### What is Hough's Transform -\n",
    "It is conversion from x-y coordinate system to new coordinate system, we can call it a,b coordinate system .It is just the transformed version of x-y. For example: lines equation in x-y system will be \"y=mx+c\" and we have defines new system as m-c system so the lines equation in new system becomes \"c= y-mx\".So, two inferences about conversion -\n",
    "1. A point in x-y system will be a line in m-c system \n",
    "2. A line in x-y system will be a point in m-c system\n",
    "\n",
    "With above two inferences question arises, what happens when slope is infinity that is line is parallel to y-axis in x-y system.For this Hough's transform can be represented in polar coordinates that is rho and thetha -\n",
    "1. rho - perpendicular distance of the line from origin\n",
    "2. thetha - Angle between perpendicular and x-axis\n",
    "\n",
    "#### How it is used in line Detection -\n",
    "So, the result from previous section gives us the edges , and we need to identify the lines in those edges .So it projects all the edge pixels in Hough's space , where if all pixels are on same line then they will intersect in Hough's space . Which leads to line detection for that combination of pixels .\n",
    "\n",
    "#### How to do it -\n",
    "Function \"cv2.HoughLinesP(img, rho, theta, threshold, np.array([]), minLineLength=min_line_len, maxLineGap=max_line_gap)\"\n",
    "1. rho - how much distance line from x-axis is acceptable\n",
    "2. theta -  how much inclination from x-axis\n",
    "3. threshold - min number of intersection on hough's space required to call it a line\n",
    "4. minLineLength - min number of pixels to consider for calling it a line\n",
    "5. maxLineGap - maximum gap between edge segements required to call it a line\n"
   ]
  },
  {
   "cell_type": "markdown",
   "metadata": {},
   "source": [
    "### 6. Lane Formation (Not any famously known method)\n",
    "\n",
    "After detecting lines in image we can see where lanes are but these lines are in segment , we need to connect them to create continuous lanes to define the boundary for car to ride\n",
    "\n",
    "I have used used following approach based on differentiation in slopes of right and left lane :\n",
    "1. According to images right lane has positive slope and left has negative slope \n",
    "2. Club the lines detected from previous section according to slope sign in right ans left group \n",
    "3. Now, as we can see from figure that both the lines has slope more then 0.5 , so we will discard the lines from clubbed ones which have slope less then 0.5\n",
    "4. we have left and right groups of line segments.Now, how ti create a single line out of it . Initially i was trying to fit linear regression with one variable but then while searching i came across numpy function which is polynomial fit , in which we can define the degree of polynomial (in our case 1 as two axis line) and it creates the best line out of given points\n",
    "6. From above we get linear equation for left and right lanes , now we need start and end coordinates for left and right lane.For this I have taken y of image shape as starting y coordinate and x can be calculated accordingly with the equations. For starting y coordinated , as presented in images it looked like it should be between 300 to 400 value where lane ends , hence i have tuned this to get the best possible result.\n",
    "5. Finally, lanes are created , now to represent it in desired format i have increased the thickness of line in draw line function and coefficient for overlapping the images from 1 to less for transformed image to make it more transparent\n",
    "\n",
    "Here you go solution for first assignment"
   ]
  },
  {
   "cell_type": "markdown",
   "metadata": {},
   "source": [
    "#### Please Note : Some parameter tuning required for following methods :\n",
    "\n",
    "1. Kernel Size for Gaussian Noise Removal\n",
    "2. Low and high threshold for Canny's edge detection\n",
    "3. threshold, minLineLength and maxLineGap for Hough's Transform \n",
    "4. Min value of Y in Lane formation to get the end point coordiantes of lane"
   ]
  },
  {
   "cell_type": "code",
   "execution_count": null,
   "metadata": {},
   "outputs": [],
   "source": []
  }
 ],
 "metadata": {
  "kernelspec": {
   "display_name": "Python 3",
   "language": "python",
   "name": "python3"
  },
  "language_info": {
   "codemirror_mode": {
    "name": "ipython",
    "version": 3
   },
   "file_extension": ".py",
   "mimetype": "text/x-python",
   "name": "python",
   "nbconvert_exporter": "python",
   "pygments_lexer": "ipython3",
   "version": "3.6.3"
  }
 },
 "nbformat": 4,
 "nbformat_minor": 2
}
